{
 "cells": [
  {
   "cell_type": "code",
   "execution_count": 2,
   "id": "ff578af6",
   "metadata": {},
   "outputs": [
    {
     "name": "stdout",
     "output_type": "stream",
     "text": [
      "We are up and running!\n"
     ]
    }
   ],
   "source": [
    "# Imports\n",
    "import os\n",
    "from dotenv import load_dotenv\n",
    "import google.generativeai as genai\n",
    "import requests\n",
    "\n",
    "print(\"We are up and running!\")"
   ]
  },
  {
   "cell_type": "code",
   "execution_count": 3,
   "id": "26367df4",
   "metadata": {},
   "outputs": [
    {
     "name": "stdout",
     "output_type": "stream",
     "text": [
      "Gemini api key loaded successfully\n"
     ]
    }
   ],
   "source": [
    "# Load environment variables\n",
    "load_dotenv()\n",
    "api_key = os.getenv(\"GEMINI_API_KEY\")\n",
    "if not api_key or api_key.startswith(\"ADD YOUR\"):\n",
    "    raise ValueError(\"GEMINI_API_KEY not found in .env file\")\n",
    "\n",
    "print(f\"Gemini api key loaded successfully\")"
   ]
  },
  {
   "cell_type": "code",
   "execution_count": 4,
   "id": "57ff57e8",
   "metadata": {},
   "outputs": [
    {
     "name": "stdout",
     "output_type": "stream",
     "text": [
      "Gemini model loaded successfully: models/gemini-2.0-flash\n"
     ]
    }
   ],
   "source": [
    "# Configure Gemini\n",
    "genai.configure(api_key=api_key) # type: ignore\n",
    "model = genai.GenerativeModel(\"gemini-2.0-flash\") # type: ignore\n",
    "\n",
    "print(f\"Gemini model loaded successfully: {model.model_name}\")"
   ]
  },
  {
   "cell_type": "code",
   "execution_count": 5,
   "id": "6e7e5bb7",
   "metadata": {},
   "outputs": [
    {
     "name": "stdout",
     "output_type": "stream",
     "text": [
      "[text: \"I am unable to provide you with the exact, real-time current price of Bitcoin. Cryptocurrency prices are incredibly volatile and change constantly, even within seconds.\\n\\nHowever, I can tell you the best ways to find the current price:\\n\\n*   **Reliable Cryptocurrency Exchanges:** Check major exchanges like Coinbase, Binance, Kraken, Gemini, or Bitstamp. They display the current price prominently.\\n*   **Financial Websites:** Reputable financial news sites like Yahoo Finance, Google Finance, Bloomberg, and Reuters have cryptocurrency sections with live price trackers.\\n*   **Cryptocurrency Tracking Websites:** CoinMarketCap and CoinGecko are dedicated to tracking cryptocurrency prices and have a wealth of other information.\\n\\nWhen you check, make sure you are looking at the price for the currency you want (e.g., BTC/USD, BTC/EUR, etc.)\\n\"\n",
      "]\n"
     ]
    }
   ],
   "source": [
    "# Ask bitcoin price\n",
    "PROMPT = \"What is the current price of Bitcoin?\"\n",
    "chat = model.start_chat()\n",
    "response = chat.send_message(PROMPT)\n",
    "print(response.candidates[0].content.parts)"
   ]
  },
  {
   "cell_type": "code",
   "execution_count": 6,
   "id": "db89f013",
   "metadata": {},
   "outputs": [],
   "source": [
    "# Add tool\n",
    "def get_crypto_price(symbol: str) -> float:\n",
    "    \"\"\"\n",
    "    Get the current price of a cryptocurrency from Binance API\n",
    "    \"\"\"\n",
    "    url = f\"https://api.binance.com/api/v3/ticker/price?symbol={symbol}\"\n",
    "    response = requests.get(url)\n",
    "    data = response.json()\n",
    "    return float(data[\"price\"])"
   ]
  },
  {
   "cell_type": "code",
   "execution_count": 7,
   "id": "e54084c2",
   "metadata": {},
   "outputs": [
    {
     "name": "stdout",
     "output_type": "stream",
     "text": [
      "BTC Price in USDT: 117705.1\n"
     ]
    }
   ],
   "source": [
    "# Test tool call\n",
    "price = get_crypto_price(\"BTCUSDT\")\n",
    "print(f\"BTC Price in USDT: {price}\")"
   ]
  },
  {
   "cell_type": "code",
   "execution_count": 8,
   "id": "51aafd25",
   "metadata": {},
   "outputs": [],
   "source": [
    "# Declare tools\n",
    "tools = [\n",
    "    {\n",
    "        \"function_declarations\": [\n",
    "            {\n",
    "                \"name\": \"get_crypto_price\",\n",
    "                \"description\": \"Get cryptocurrency price in USDT from Binance\",\n",
    "                \"parameters\": {\n",
    "                    \"type\": \"object\", \n",
    "                    \"properties\": {\n",
    "                        \"symbol\": {\n",
    "                            \"type\": \"string\",\n",
    "                            \"description\": \"The cryptocurrency trading pair symbol (e.g., BTCUSDT, ETHUSDT). The symbol for Bitcoin is BTCUSDT. The symbol for Ethereum is ETHUSDT.\"\n",
    "                        }\n",
    "                    },\n",
    "                    \"required\": [\"symbol\"]\n",
    "                }\n",
    "            }\n",
    "        ]\n",
    "    }\n",
    "]"
   ]
  },
  {
   "cell_type": "code",
   "execution_count": 9,
   "id": "f11f50c3",
   "metadata": {},
   "outputs": [
    {
     "name": "stdout",
     "output_type": "stream",
     "text": [
      "[function_call {\n",
      "  name: \"get_crypto_price\"\n",
      "  args {\n",
      "    fields {\n",
      "      key: \"symbol\"\n",
      "      value {\n",
      "        string_value: \"BTCUSDT\"\n",
      "      }\n",
      "    }\n",
      "  }\n",
      "}\n",
      "]\n"
     ]
    }
   ],
   "source": [
    "# Ask bitcoin price with tools\n",
    "PROMPT = \"What is the current price of Bitcoin?\"\n",
    "chat = model.start_chat()\n",
    "response = chat.send_message(PROMPT, tools=tools)\n",
    "print(response.candidates[0].content.parts)"
   ]
  },
  {
   "cell_type": "code",
   "execution_count": 10,
   "id": "ff0024aa",
   "metadata": {},
   "outputs": [],
   "source": [
    "# Tool call\n",
    "price = get_crypto_price(\"BTCUSDT\")"
   ]
  },
  {
   "cell_type": "code",
   "execution_count": 11,
   "id": "8746d6fd",
   "metadata": {},
   "outputs": [
    {
     "name": "stdout",
     "output_type": "stream",
     "text": [
      "[text: \"The current price of Bitcoin is $117,705.1.\\n\"\n",
      "]\n"
     ]
    }
   ],
   "source": [
    "# Share tool call response\n",
    "final_response = chat.send_message(str(price))\n",
    "print(final_response.candidates[0].content.parts)"
   ]
  }
 ],
 "metadata": {
  "kernelspec": {
   "display_name": "project",
   "language": "python",
   "name": "python3"
  },
  "language_info": {
   "codemirror_mode": {
    "name": "ipython",
    "version": 3
   },
   "file_extension": ".py",
   "mimetype": "text/x-python",
   "name": "python",
   "nbconvert_exporter": "python",
   "pygments_lexer": "ipython3",
   "version": "3.13.7"
  }
 },
 "nbformat": 4,
 "nbformat_minor": 5
}
